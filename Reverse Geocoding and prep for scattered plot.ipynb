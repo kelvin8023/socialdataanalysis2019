{
 "cells": [
  {
   "cell_type": "markdown",
   "metadata": {},
   "source": [
    "## Reverse Geocoding, Preparation for Brushing and Scatter Plot\n",
    "We have applied reverse geocoding in order to get the location such as county and city from the pairs of geographic coordinates in our dataset. We have then prepared the datasets for brushing. The dataset consist of following two dataframes for the conditions (weather, speed, light and road condition) in ten most populous counties in UK:\n",
    "\n",
    "##### Data per county: \n",
    "This dataset consists of the number of accidents per county under a certain condition. There are columns for each condition per county which includes the number of accidents and also there is a column for total that represents the total number of accidents in that county\n",
    "##### Data per county per year:\n",
    "This datase consists of the number of accidents per county under a certain condition for the years 2009 to 2014. This dataset has columns for each condition per county per year, and as well as the column for total number of accidents.\n",
    "\n",
    "In order to make the notebook readible to the audience, the data preparation for speed limit is only included in the notebook. It should be noted that the data for the other conditions is also prepared in the exact same way. "
   ]
  },
  {
   "cell_type": "markdown",
   "metadata": {},
   "source": [
    "# Reverse GeoCoding"
   ]
  },
  {
   "cell_type": "code",
   "execution_count": 1,
   "metadata": {},
   "outputs": [],
   "source": [
    "import reverse_geocoder as rg \n",
    "import pprint \n",
    "import pandas as pd"
   ]
  },
  {
   "cell_type": "code",
   "execution_count": null,
   "metadata": {},
   "outputs": [],
   "source": [
    "gdf= pd.read_csv(\"CleanData_UK_Accidents.csv\")"
   ]
  },
  {
   "cell_type": "code",
   "execution_count": null,
   "metadata": {},
   "outputs": [],
   "source": [
    "gdf.head()"
   ]
  },
  {
   "cell_type": "code",
   "execution_count": null,
   "metadata": {},
   "outputs": [],
   "source": [
    "latlong= gdf[['Latitude','Longitude']]"
   ]
  },
  {
   "cell_type": "code",
   "execution_count": null,
   "metadata": {},
   "outputs": [],
   "source": [
    "tuples = [tuple(x) for x in latlong.values]"
   ]
  },
  {
   "cell_type": "code",
   "execution_count": null,
   "metadata": {},
   "outputs": [],
   "source": [
    "result = rg.search(tuples) \n",
    "res=pd.DataFrame(result) "
   ]
  },
  {
   "cell_type": "code",
   "execution_count": null,
   "metadata": {},
   "outputs": [],
   "source": [
    "res.head()"
   ]
  },
  {
   "cell_type": "code",
   "execution_count": null,
   "metadata": {},
   "outputs": [],
   "source": [
    "resultpd=res[['name','admin1','admin2']]"
   ]
  },
  {
   "cell_type": "code",
   "execution_count": null,
   "metadata": {},
   "outputs": [],
   "source": [
    "resultpd.head()"
   ]
  },
  {
   "cell_type": "code",
   "execution_count": null,
   "metadata": {},
   "outputs": [],
   "source": [
    "data=pd.concat([gdf, resultpd], axis=1, sort=False)"
   ]
  },
  {
   "cell_type": "code",
   "execution_count": null,
   "metadata": {},
   "outputs": [],
   "source": [
    "data.rename(columns={'admin1':'Country',\n",
    "                          'admin2':'Area'}, \n",
    "                 inplace=True)\n",
    "del data['Unnamed: 0']"
   ]
  },
  {
   "cell_type": "code",
   "execution_count": null,
   "metadata": {},
   "outputs": [],
   "source": [
    "data.head()"
   ]
  },
  {
   "cell_type": "markdown",
   "metadata": {},
   "source": [
    "data.to_csv('Clean_data_with_City_Names.csv', index=False)\n"
   ]
  },
  {
   "cell_type": "markdown",
   "metadata": {},
   "source": [
    "# Prep for Brushing and Scatter plot"
   ]
  },
  {
   "cell_type": "code",
   "execution_count": null,
   "metadata": {},
   "outputs": [],
   "source": [
    "most_pop=['Greater London','Manchester','Hampshire','Kent','Essex','Lancashire','Devon','Surrey','Hertfordshire','North Yorkshire']"
   ]
  },
  {
   "cell_type": "code",
   "execution_count": null,
   "metadata": {},
   "outputs": [],
   "source": [
    "data = data[data[\"Area\"].isin(most_pop)]"
   ]
  },
  {
   "cell_type": "code",
   "execution_count": null,
   "metadata": {},
   "outputs": [],
   "source": [
    "xy=['Road_Surface_Conditions','Weather_Conditions','Light_Conditions','Speed_limit']"
   ]
  },
  {
   "cell_type": "code",
   "execution_count": null,
   "metadata": {},
   "outputs": [],
   "source": [
    "xyvalues=xy[3]\n",
    "speed=data[xyvalues].unique().tolist()"
   ]
  },
  {
   "cell_type": "code",
   "execution_count": null,
   "metadata": {},
   "outputs": [],
   "source": [
    "county_df = data[['Area']].drop_duplicates().dropna()\n",
    "county_df"
   ]
  },
  {
   "cell_type": "code",
   "execution_count": null,
   "metadata": {},
   "outputs": [],
   "source": [
    "Area_df = data[['Area']].drop_duplicates().dropna()\n",
    "for w in (speed):\n",
    "   \n",
    "    df1= (data.loc[data[xyvalues] == w])\n",
    "    \n",
    "    \n",
    "    df1=df1.groupby(['Area']).aggregate('count').reset_index()\n",
    "    \n",
    "    df1=df1[['Area',xyvalues]]\n",
    "   \n",
    "    df1 = df1.rename(columns = {xyvalues:w})\n",
    "    Area_df = pd.merge(Area_df,df1,on = \"Area\",how=\"outer\")\n",
    "    Area_df.fillna(0, inplace=True)\n",
    "sumPD_year = pd.DataFrame(Area_df.iloc[:,2:15].sum(axis=1))\n",
    "\n",
    "Area_df=pd.concat([Area_df, sumPD_year], axis=1, sort=False)\n",
    "\n",
    "Area_df.rename(columns={0:'Total'}, \n",
    "                 inplace=True)\n",
    "Area_df    "
   ]
  },
  {
   "cell_type": "code",
   "execution_count": null,
   "metadata": {},
   "outputs": [],
   "source": [
    "Area_year_DF= data[[\"Area\",\"Year\"]].drop_duplicates().dropna()\n",
    "for w in (speed):    \n",
    "    df2= (data.loc[data[xyvalues] == w])\n",
    "    df2=df2.groupby(['Area','Year']).aggregate('count').reset_index()\n",
    "    df2=df2[['Area','Year',xyvalues]]\n",
    "    df2 = df2.rename(columns = {xyvalues:w})\n",
    "    Area_year_DF = pd.merge(Area_year_DF,df2, on =[\"Area\",\"Year\"],how=\"left\")\n",
    "    #Area_year_DF.fillna(0, inplace=True)\n",
    "sumPD_year = pd.DataFrame(Area_year_DF.iloc[:,2:15].sum(axis=1))\n",
    "\n",
    "Area_year_DF=pd.concat([Area_year_DF, sumPD_year], axis=1, sort=False)\n",
    "\n",
    "Area_year_DF.rename(columns={0:'Total'}, \n",
    "                 inplace=True)\n",
    "Area_year_DF"
   ]
  }
 ],
 "metadata": {
  "kernelspec": {
   "display_name": "Python 3",
   "language": "python",
   "name": "python3"
  },
  "language_info": {
   "codemirror_mode": {
    "name": "ipython",
    "version": 3
   },
   "file_extension": ".py",
   "mimetype": "text/x-python",
   "name": "python",
   "nbconvert_exporter": "python",
   "pygments_lexer": "ipython3",
   "version": "3.6.5"
  }
 },
 "nbformat": 4,
 "nbformat_minor": 2
}
