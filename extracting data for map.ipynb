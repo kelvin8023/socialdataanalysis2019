{
 "cells": [
  {
   "cell_type": "markdown",
   "metadata": {},
   "source": [
    "# Data preperation for the map visualisation #\n",
    "\n",
    "Three dataset was used to create the map.\n",
    "* [UK geoJson file](https://opendata.arcgis.com/datasets/fab4feab211c4899b602ecfbfbc420a3_4.geojson)\n",
    "* [Accident data](https://www.kaggle.com/daveianhickey/2000-16-traffic-flow-england-scotland-wales)\n",
    "* [Population Data](https://www.ons.gov.uk/peoplepopulationandcommunity/populationandmigration/populationestimates/datasets/populationestimatesforukenglandandwalesscotlandandnorthernireland)\n",
    "\n",
    "All datasets can be found in the folder called map_data together with the data generated through this code.\n",
    "\n",
    "The process below consists of six parts:\n",
    "* Matching accident data and geojson polygon\n",
    "* Extracting data for total accidents\n",
    "* Extracting data for speed\n",
    "* Extracting data for casualties\n",
    "* Extracting data for weather condition\n",
    "* Extracting data for weekdays\n",
    "* Cleaning population dataset\n",
    "* Combining accident data with population data"
   ]
  },
  {
   "cell_type": "markdown",
   "metadata": {},
   "source": [
    "# Match accident data and geojson polygon for 900.000 accidents #\n"
   ]
  },
  {
   "cell_type": "markdown",
   "metadata": {},
   "source": [
    "### Function to generate data related to geoJson files ###\n",
    "The function ckecks if the accident is within a given district. It the accident is, then it is assigned a district name corresponding to the goejson file.\n",
    "The function ran for approx. 50 hours to check location of 900.000 accidents."
   ]
  },
  {
   "cell_type": "code",
   "execution_count": 2,
   "metadata": {},
   "outputs": [],
   "source": [
    "import pandas as pd\n",
    "import os\n",
    "import matplotlib.pyplot as plt\n",
    "import numpy as np\n",
    "import json\n",
    "import warnings\n",
    "warnings.filterwarnings('ignore')\n",
    "import os\n",
    "cwd = os.getcwd()"
   ]
  },
  {
   "cell_type": "code",
   "execution_count": null,
   "metadata": {},
   "outputs": [],
   "source": [
    "# algorithm is based on: http://archived.mhermans.net/geojson-shapely-geocoding.html\n",
    "from shapely.geometry import shape, Point\n",
    "\n",
    "my_df = []\n",
    "\n",
    "# load GeoJSON file containing sectors\n",
    "with open(cwd + '/map_data/Local_Authority_Districts_Dec_2016.geojson') as f:\n",
    "    js = json.load(f)\n",
    "\n",
    "with open(cwd + '/map_data/CleanData_UK_Accidents.csv') as file:\n",
    "    small_sample = pd.read_csv(file)\n",
    "    \n",
    "for i, row in small_sample.iterrows():\n",
    "    # construct point based on lon/lat returned by geocoder\n",
    "    point = Point(row.Longitude, row.Latitude)\n",
    "    \n",
    "    # check each polygon to see if it contains the point\n",
    "    for feature in js['features']:\n",
    "        polygon = shape(feature['geometry'])\n",
    "        if polygon.contains(point):\n",
    "\n",
    "            d = {\n",
    "                'lat': row.Latitude,\n",
    "                'lon': row.Longitude,\n",
    "                'name' : feature['properties']['lad16nm'],  # adding the district name\n",
    "                'Number_of_Casualties' : row.Number_of_Casualties,\n",
    "                'Road_Surface_Conditions' : row.Road_Surface_Conditions,\n",
    "                'Weather_Conditions': row.Weather_Conditions,\n",
    "                'Road_Type': row.Road_Type,\n",
    "                'Speed_limit' : row.Speed_limit,\n",
    "                'Date' : row.Date,\n",
    "                'Day_of_Week' : row.Day_of_Week,\n",
    "                'Urban_or_Rural_Area' : row.Urban_or_Rural_Area,\n",
    "                'Accident_Severity' : row.Accident_Severity,\n",
    "                'Junction_Control' : row.Junction_Control,\n",
    "                'Light_Conditions' : row.Light_Conditions,\n",
    "                'Year': row.Year\n",
    "            }\n",
    "            \n",
    "            my_df.append(d)\n",
    "\n",
    "print('Done')\n",
    "\n",
    "csv_cityname = pd.DataFrame(my_df)\n",
    "\n",
    "csv_cityname.to_csv('self_generated_data.csv')"
   ]
  },
  {
   "cell_type": "markdown",
   "metadata": {},
   "source": [
    "# Exstracting data for total accients ##\n",
    "The data is grouped and counted to show rank of accidents by the different distrcts in the bar chart."
   ]
  },
  {
   "cell_type": "code",
   "execution_count": 475,
   "metadata": {},
   "outputs": [],
   "source": [
    "sample = pd.read_csv(cwd + \"/map_data/self_generated_data.csv\");"
   ]
  },
  {
   "cell_type": "code",
   "execution_count": 476,
   "metadata": {},
   "outputs": [],
   "source": [
    "sample = sample.groupby(['Year', 'name']).count()"
   ]
  },
  {
   "cell_type": "code",
   "execution_count": 477,
   "metadata": {},
   "outputs": [],
   "source": [
    "sample = sample.rename(columns={'Unnamed: 0': 'accident_num'})"
   ]
  },
  {
   "cell_type": "code",
   "execution_count": 478,
   "metadata": {},
   "outputs": [],
   "source": [
    "sample_to_export = sample['accident_num'].reset_index()"
   ]
  },
  {
   "cell_type": "code",
   "execution_count": 479,
   "metadata": {},
   "outputs": [
    {
     "data": {
      "text/html": [
       "<div>\n",
       "<style scoped>\n",
       "    .dataframe tbody tr th:only-of-type {\n",
       "        vertical-align: middle;\n",
       "    }\n",
       "\n",
       "    .dataframe tbody tr th {\n",
       "        vertical-align: top;\n",
       "    }\n",
       "\n",
       "    .dataframe thead th {\n",
       "        text-align: right;\n",
       "    }\n",
       "</style>\n",
       "<table border=\"1\" class=\"dataframe\">\n",
       "  <thead>\n",
       "    <tr style=\"text-align: right;\">\n",
       "      <th></th>\n",
       "      <th>Year</th>\n",
       "      <th>name</th>\n",
       "      <th>accident_num</th>\n",
       "    </tr>\n",
       "  </thead>\n",
       "  <tbody>\n",
       "    <tr>\n",
       "      <th>0</th>\n",
       "      <td>2009</td>\n",
       "      <td>Aberdeen City</td>\n",
       "      <td>441</td>\n",
       "    </tr>\n",
       "    <tr>\n",
       "      <th>1</th>\n",
       "      <td>2009</td>\n",
       "      <td>Aberdeenshire</td>\n",
       "      <td>688</td>\n",
       "    </tr>\n",
       "    <tr>\n",
       "      <th>2</th>\n",
       "      <td>2009</td>\n",
       "      <td>Adur</td>\n",
       "      <td>157</td>\n",
       "    </tr>\n",
       "    <tr>\n",
       "      <th>3</th>\n",
       "      <td>2009</td>\n",
       "      <td>Allerdale</td>\n",
       "      <td>298</td>\n",
       "    </tr>\n",
       "    <tr>\n",
       "      <th>4</th>\n",
       "      <td>2009</td>\n",
       "      <td>Amber Valley</td>\n",
       "      <td>336</td>\n",
       "    </tr>\n",
       "  </tbody>\n",
       "</table>\n",
       "</div>"
      ],
      "text/plain": [
       "   Year           name  accident_num\n",
       "0  2009  Aberdeen City           441\n",
       "1  2009  Aberdeenshire           688\n",
       "2  2009           Adur           157\n",
       "3  2009      Allerdale           298\n",
       "4  2009   Amber Valley           336"
      ]
     },
     "execution_count": 479,
     "metadata": {},
     "output_type": "execute_result"
    }
   ],
   "source": [
    "sample_to_export.head()"
   ]
  },
  {
   "cell_type": "code",
   "execution_count": 481,
   "metadata": {},
   "outputs": [],
   "source": [
    "sample_to_export.to_csv('map_data/total_accidents_on_years_for_map.csv')"
   ]
  },
  {
   "cell_type": "markdown",
   "metadata": {},
   "source": [
    "# Exstracting data for speed # \n",
    "Data is grouped and counted for the speed bar chart below the map"
   ]
  },
  {
   "cell_type": "code",
   "execution_count": 483,
   "metadata": {},
   "outputs": [],
   "source": [
    "speed_df = pd.read_csv(cwd + \"/map_data/self_generated_data.csv\");"
   ]
  },
  {
   "cell_type": "code",
   "execution_count": 484,
   "metadata": {},
   "outputs": [],
   "source": [
    "speed_df = speed_df.groupby(['Year', 'name','Speed_limit' ]).count()"
   ]
  },
  {
   "cell_type": "code",
   "execution_count": 485,
   "metadata": {},
   "outputs": [],
   "source": [
    "speed_df = speed_df.rename(columns={'Unnamed: 0': 'accident_num'})"
   ]
  },
  {
   "cell_type": "code",
   "execution_count": 486,
   "metadata": {},
   "outputs": [],
   "source": [
    "speed_df_to_export = speed_df['accident_num'].reset_index()"
   ]
  },
  {
   "cell_type": "code",
   "execution_count": 487,
   "metadata": {},
   "outputs": [
    {
     "data": {
      "text/html": [
       "<div>\n",
       "<style scoped>\n",
       "    .dataframe tbody tr th:only-of-type {\n",
       "        vertical-align: middle;\n",
       "    }\n",
       "\n",
       "    .dataframe tbody tr th {\n",
       "        vertical-align: top;\n",
       "    }\n",
       "\n",
       "    .dataframe thead th {\n",
       "        text-align: right;\n",
       "    }\n",
       "</style>\n",
       "<table border=\"1\" class=\"dataframe\">\n",
       "  <thead>\n",
       "    <tr style=\"text-align: right;\">\n",
       "      <th></th>\n",
       "      <th>Year</th>\n",
       "      <th>name</th>\n",
       "      <th>Speed_limit</th>\n",
       "      <th>accident_num</th>\n",
       "    </tr>\n",
       "  </thead>\n",
       "  <tbody>\n",
       "    <tr>\n",
       "      <th>0</th>\n",
       "      <td>2009</td>\n",
       "      <td>Aberdeen City</td>\n",
       "      <td>20</td>\n",
       "      <td>44</td>\n",
       "    </tr>\n",
       "    <tr>\n",
       "      <th>1</th>\n",
       "      <td>2009</td>\n",
       "      <td>Aberdeen City</td>\n",
       "      <td>30</td>\n",
       "      <td>275</td>\n",
       "    </tr>\n",
       "    <tr>\n",
       "      <th>2</th>\n",
       "      <td>2009</td>\n",
       "      <td>Aberdeen City</td>\n",
       "      <td>40</td>\n",
       "      <td>48</td>\n",
       "    </tr>\n",
       "    <tr>\n",
       "      <th>3</th>\n",
       "      <td>2009</td>\n",
       "      <td>Aberdeen City</td>\n",
       "      <td>50</td>\n",
       "      <td>16</td>\n",
       "    </tr>\n",
       "    <tr>\n",
       "      <th>4</th>\n",
       "      <td>2009</td>\n",
       "      <td>Aberdeen City</td>\n",
       "      <td>60</td>\n",
       "      <td>36</td>\n",
       "    </tr>\n",
       "  </tbody>\n",
       "</table>\n",
       "</div>"
      ],
      "text/plain": [
       "   Year           name  Speed_limit  accident_num\n",
       "0  2009  Aberdeen City           20            44\n",
       "1  2009  Aberdeen City           30           275\n",
       "2  2009  Aberdeen City           40            48\n",
       "3  2009  Aberdeen City           50            16\n",
       "4  2009  Aberdeen City           60            36"
      ]
     },
     "execution_count": 487,
     "metadata": {},
     "output_type": "execute_result"
    }
   ],
   "source": [
    "speed_df_to_export.head()"
   ]
  },
  {
   "cell_type": "code",
   "execution_count": 489,
   "metadata": {},
   "outputs": [],
   "source": [
    "speed_df_to_export.to_csv('map_data/total_accidents_on_years_and_speed.csv')"
   ]
  },
  {
   "cell_type": "markdown",
   "metadata": {},
   "source": [
    "# Exstracting data for casualties # \n",
    "Data is grouped and counted for casualties bar chart below the map"
   ]
  },
  {
   "cell_type": "code",
   "execution_count": 490,
   "metadata": {},
   "outputs": [],
   "source": [
    "casualties_df = pd.read_csv(cwd + \"/map_data/self_generated_data.csv\");"
   ]
  },
  {
   "cell_type": "code",
   "execution_count": 491,
   "metadata": {},
   "outputs": [],
   "source": [
    "casualties_df = casualties_df.groupby(['Year', 'name','Number_of_Casualties' ]).count()"
   ]
  },
  {
   "cell_type": "code",
   "execution_count": 492,
   "metadata": {},
   "outputs": [],
   "source": [
    "casualties_df = casualties_df.rename(columns={'Unnamed: 0': 'accident_num'})"
   ]
  },
  {
   "cell_type": "code",
   "execution_count": 493,
   "metadata": {},
   "outputs": [],
   "source": [
    "casualties_df_to_export = casualties_df['accident_num'].reset_index()"
   ]
  },
  {
   "cell_type": "code",
   "execution_count": 494,
   "metadata": {},
   "outputs": [
    {
     "data": {
      "text/html": [
       "<div>\n",
       "<style scoped>\n",
       "    .dataframe tbody tr th:only-of-type {\n",
       "        vertical-align: middle;\n",
       "    }\n",
       "\n",
       "    .dataframe tbody tr th {\n",
       "        vertical-align: top;\n",
       "    }\n",
       "\n",
       "    .dataframe thead th {\n",
       "        text-align: right;\n",
       "    }\n",
       "</style>\n",
       "<table border=\"1\" class=\"dataframe\">\n",
       "  <thead>\n",
       "    <tr style=\"text-align: right;\">\n",
       "      <th></th>\n",
       "      <th>Year</th>\n",
       "      <th>name</th>\n",
       "      <th>Number_of_Casualties</th>\n",
       "      <th>accident_num</th>\n",
       "    </tr>\n",
       "  </thead>\n",
       "  <tbody>\n",
       "    <tr>\n",
       "      <th>0</th>\n",
       "      <td>2009</td>\n",
       "      <td>Aberdeen City</td>\n",
       "      <td>1</td>\n",
       "      <td>400</td>\n",
       "    </tr>\n",
       "    <tr>\n",
       "      <th>1</th>\n",
       "      <td>2009</td>\n",
       "      <td>Aberdeen City</td>\n",
       "      <td>2</td>\n",
       "      <td>33</td>\n",
       "    </tr>\n",
       "    <tr>\n",
       "      <th>2</th>\n",
       "      <td>2009</td>\n",
       "      <td>Aberdeen City</td>\n",
       "      <td>3</td>\n",
       "      <td>6</td>\n",
       "    </tr>\n",
       "    <tr>\n",
       "      <th>3</th>\n",
       "      <td>2009</td>\n",
       "      <td>Aberdeen City</td>\n",
       "      <td>4</td>\n",
       "      <td>1</td>\n",
       "    </tr>\n",
       "    <tr>\n",
       "      <th>4</th>\n",
       "      <td>2009</td>\n",
       "      <td>Aberdeen City</td>\n",
       "      <td>5</td>\n",
       "      <td>1</td>\n",
       "    </tr>\n",
       "  </tbody>\n",
       "</table>\n",
       "</div>"
      ],
      "text/plain": [
       "   Year           name  Number_of_Casualties  accident_num\n",
       "0  2009  Aberdeen City                     1           400\n",
       "1  2009  Aberdeen City                     2            33\n",
       "2  2009  Aberdeen City                     3             6\n",
       "3  2009  Aberdeen City                     4             1\n",
       "4  2009  Aberdeen City                     5             1"
      ]
     },
     "execution_count": 494,
     "metadata": {},
     "output_type": "execute_result"
    }
   ],
   "source": [
    "casualties_df_to_export.head()"
   ]
  },
  {
   "cell_type": "code",
   "execution_count": 495,
   "metadata": {},
   "outputs": [],
   "source": [
    "casualties_df_to_export.to_csv('map_data/total_accidents_on_years_and_casualties.csv')"
   ]
  },
  {
   "cell_type": "markdown",
   "metadata": {},
   "source": [
    "# Exstracting data for weather conditions #\n",
    "Data is grouped and counted for weather bar chart below the map"
   ]
  },
  {
   "cell_type": "code",
   "execution_count": 496,
   "metadata": {},
   "outputs": [],
   "source": [
    "weather_df = pd.read_csv(cwd + \"/map_data/self_generated_data.csv\");"
   ]
  },
  {
   "cell_type": "code",
   "execution_count": 497,
   "metadata": {},
   "outputs": [],
   "source": [
    "weather_df = weather_df.groupby(['Year', 'name','Weather_Conditions' ]).count()"
   ]
  },
  {
   "cell_type": "code",
   "execution_count": 498,
   "metadata": {},
   "outputs": [],
   "source": [
    "weather_df = weather_df.rename(columns={'Unnamed: 0': 'accident_num'})"
   ]
  },
  {
   "cell_type": "code",
   "execution_count": 499,
   "metadata": {},
   "outputs": [],
   "source": [
    "weather_df_to_export = weather_df['accident_num'].reset_index()"
   ]
  },
  {
   "cell_type": "code",
   "execution_count": 500,
   "metadata": {},
   "outputs": [
    {
     "data": {
      "text/html": [
       "<div>\n",
       "<style scoped>\n",
       "    .dataframe tbody tr th:only-of-type {\n",
       "        vertical-align: middle;\n",
       "    }\n",
       "\n",
       "    .dataframe tbody tr th {\n",
       "        vertical-align: top;\n",
       "    }\n",
       "\n",
       "    .dataframe thead th {\n",
       "        text-align: right;\n",
       "    }\n",
       "</style>\n",
       "<table border=\"1\" class=\"dataframe\">\n",
       "  <thead>\n",
       "    <tr style=\"text-align: right;\">\n",
       "      <th></th>\n",
       "      <th>Year</th>\n",
       "      <th>name</th>\n",
       "      <th>Weather_Conditions</th>\n",
       "      <th>accident_num</th>\n",
       "    </tr>\n",
       "  </thead>\n",
       "  <tbody>\n",
       "    <tr>\n",
       "      <th>0</th>\n",
       "      <td>2009</td>\n",
       "      <td>Aberdeen City</td>\n",
       "      <td>Fine with high winds</td>\n",
       "      <td>10</td>\n",
       "    </tr>\n",
       "    <tr>\n",
       "      <th>1</th>\n",
       "      <td>2009</td>\n",
       "      <td>Aberdeen City</td>\n",
       "      <td>Fine without high winds</td>\n",
       "      <td>337</td>\n",
       "    </tr>\n",
       "    <tr>\n",
       "      <th>2</th>\n",
       "      <td>2009</td>\n",
       "      <td>Aberdeen City</td>\n",
       "      <td>Other</td>\n",
       "      <td>6</td>\n",
       "    </tr>\n",
       "    <tr>\n",
       "      <th>3</th>\n",
       "      <td>2009</td>\n",
       "      <td>Aberdeen City</td>\n",
       "      <td>Raining with high winds</td>\n",
       "      <td>15</td>\n",
       "    </tr>\n",
       "    <tr>\n",
       "      <th>4</th>\n",
       "      <td>2009</td>\n",
       "      <td>Aberdeen City</td>\n",
       "      <td>Raining without high winds</td>\n",
       "      <td>67</td>\n",
       "    </tr>\n",
       "  </tbody>\n",
       "</table>\n",
       "</div>"
      ],
      "text/plain": [
       "   Year           name          Weather_Conditions  accident_num\n",
       "0  2009  Aberdeen City        Fine with high winds            10\n",
       "1  2009  Aberdeen City     Fine without high winds           337\n",
       "2  2009  Aberdeen City                       Other             6\n",
       "3  2009  Aberdeen City     Raining with high winds            15\n",
       "4  2009  Aberdeen City  Raining without high winds            67"
      ]
     },
     "execution_count": 500,
     "metadata": {},
     "output_type": "execute_result"
    }
   ],
   "source": [
    "weather_df_to_export.head()"
   ]
  },
  {
   "cell_type": "code",
   "execution_count": 501,
   "metadata": {},
   "outputs": [],
   "source": [
    "weather_df_to_export.to_csv('map_data/total_accidents_on_years_and_weather.csv')"
   ]
  },
  {
   "cell_type": "markdown",
   "metadata": {},
   "source": [
    "# Exstracting data for weekdays # \n",
    "Data is grouped and counted for weekdays bar chart below the map"
   ]
  },
  {
   "cell_type": "code",
   "execution_count": 502,
   "metadata": {},
   "outputs": [],
   "source": [
    "day_of_week_df = pd.read_csv(cwd + \"/map_data/self_generated_data.csv\");"
   ]
  },
  {
   "cell_type": "code",
   "execution_count": 503,
   "metadata": {},
   "outputs": [],
   "source": [
    "day_of_week_df = day_of_week_df.groupby(['Year', 'name', 'Day_of_Week']).count()"
   ]
  },
  {
   "cell_type": "code",
   "execution_count": 504,
   "metadata": {},
   "outputs": [],
   "source": [
    "day_of_week_df = day_of_week_df.rename(columns={'Unnamed: 0': 'accident_num'})"
   ]
  },
  {
   "cell_type": "code",
   "execution_count": 505,
   "metadata": {},
   "outputs": [],
   "source": [
    "day_of_week_df_to_export = day_of_week_df['accident_num'].reset_index()"
   ]
  },
  {
   "cell_type": "code",
   "execution_count": 506,
   "metadata": {},
   "outputs": [
    {
     "data": {
      "text/html": [
       "<div>\n",
       "<style scoped>\n",
       "    .dataframe tbody tr th:only-of-type {\n",
       "        vertical-align: middle;\n",
       "    }\n",
       "\n",
       "    .dataframe tbody tr th {\n",
       "        vertical-align: top;\n",
       "    }\n",
       "\n",
       "    .dataframe thead th {\n",
       "        text-align: right;\n",
       "    }\n",
       "</style>\n",
       "<table border=\"1\" class=\"dataframe\">\n",
       "  <thead>\n",
       "    <tr style=\"text-align: right;\">\n",
       "      <th></th>\n",
       "      <th>Year</th>\n",
       "      <th>name</th>\n",
       "      <th>Day_of_Week</th>\n",
       "      <th>accident_num</th>\n",
       "    </tr>\n",
       "  </thead>\n",
       "  <tbody>\n",
       "    <tr>\n",
       "      <th>0</th>\n",
       "      <td>2009</td>\n",
       "      <td>Aberdeen City</td>\n",
       "      <td>1</td>\n",
       "      <td>46</td>\n",
       "    </tr>\n",
       "    <tr>\n",
       "      <th>1</th>\n",
       "      <td>2009</td>\n",
       "      <td>Aberdeen City</td>\n",
       "      <td>2</td>\n",
       "      <td>58</td>\n",
       "    </tr>\n",
       "    <tr>\n",
       "      <th>2</th>\n",
       "      <td>2009</td>\n",
       "      <td>Aberdeen City</td>\n",
       "      <td>3</td>\n",
       "      <td>72</td>\n",
       "    </tr>\n",
       "    <tr>\n",
       "      <th>3</th>\n",
       "      <td>2009</td>\n",
       "      <td>Aberdeen City</td>\n",
       "      <td>4</td>\n",
       "      <td>81</td>\n",
       "    </tr>\n",
       "    <tr>\n",
       "      <th>4</th>\n",
       "      <td>2009</td>\n",
       "      <td>Aberdeen City</td>\n",
       "      <td>5</td>\n",
       "      <td>71</td>\n",
       "    </tr>\n",
       "  </tbody>\n",
       "</table>\n",
       "</div>"
      ],
      "text/plain": [
       "   Year           name  Day_of_Week  accident_num\n",
       "0  2009  Aberdeen City            1            46\n",
       "1  2009  Aberdeen City            2            58\n",
       "2  2009  Aberdeen City            3            72\n",
       "3  2009  Aberdeen City            4            81\n",
       "4  2009  Aberdeen City            5            71"
      ]
     },
     "execution_count": 506,
     "metadata": {},
     "output_type": "execute_result"
    }
   ],
   "source": [
    "day_of_week_df_to_export.head()"
   ]
  },
  {
   "cell_type": "code",
   "execution_count": 507,
   "metadata": {},
   "outputs": [],
   "source": [
    "day_of_week_df_to_export.to_csv('map_data/total_accidents_on_years_and_weekday.csv')"
   ]
  },
  {
   "cell_type": "markdown",
   "metadata": {},
   "source": [
    "# Cleaning Population dataset# \n",
    "The population dataset is ceaned for columns that we do not need and the coulms are changed so it fits the structure we need.\n",
    "The population dataset can be found here: https://www.ons.gov.uk/peoplepopulationandcommunity/populationandmigration/populationestimates/datasets/populationestimatesforukenglandandwalesscotlandandnorthernireland\n"
   ]
  },
  {
   "cell_type": "code",
   "execution_count": 508,
   "metadata": {},
   "outputs": [],
   "source": [
    "import pandas as pd\n",
    "from pandas import *\n",
    "pop_data = pd.read_csv(cwd + \"/map_data/MYEB1_detailed_population_estimates_series_UK_2014.csv\");"
   ]
  },
  {
   "cell_type": "code",
   "execution_count": 523,
   "metadata": {},
   "outputs": [],
   "source": [
    "# selecting the columns that we need\n",
    "pop_data = pop_data[[ 'lad2014_code', 'lad2014_name', 'population_2009', 'population_2010', 'population_2011', 'population_2012', 'population_2013', 'population_2014']]"
   ]
  },
  {
   "cell_type": "code",
   "execution_count": 511,
   "metadata": {},
   "outputs": [
    {
     "data": {
      "text/html": [
       "<div>\n",
       "<style scoped>\n",
       "    .dataframe tbody tr th:only-of-type {\n",
       "        vertical-align: middle;\n",
       "    }\n",
       "\n",
       "    .dataframe tbody tr th {\n",
       "        vertical-align: top;\n",
       "    }\n",
       "\n",
       "    .dataframe thead th {\n",
       "        text-align: right;\n",
       "    }\n",
       "</style>\n",
       "<table border=\"1\" class=\"dataframe\">\n",
       "  <thead>\n",
       "    <tr style=\"text-align: right;\">\n",
       "      <th></th>\n",
       "      <th>lad2014_code</th>\n",
       "      <th>lad2014_name</th>\n",
       "      <th>population_2009</th>\n",
       "      <th>population_2010</th>\n",
       "      <th>population_2011</th>\n",
       "      <th>population_2012</th>\n",
       "      <th>population_2013</th>\n",
       "      <th>population_2014</th>\n",
       "    </tr>\n",
       "  </thead>\n",
       "  <tbody>\n",
       "    <tr>\n",
       "      <th>0</th>\n",
       "      <td>E06000001</td>\n",
       "      <td>Hartlepool</td>\n",
       "      <td>572</td>\n",
       "      <td>584</td>\n",
       "      <td>601</td>\n",
       "      <td>594</td>\n",
       "      <td>576</td>\n",
       "      <td>551</td>\n",
       "    </tr>\n",
       "    <tr>\n",
       "      <th>1</th>\n",
       "      <td>E06000001</td>\n",
       "      <td>Hartlepool</td>\n",
       "      <td>597</td>\n",
       "      <td>577</td>\n",
       "      <td>573</td>\n",
       "      <td>615</td>\n",
       "      <td>601</td>\n",
       "      <td>567</td>\n",
       "    </tr>\n",
       "    <tr>\n",
       "      <th>2</th>\n",
       "      <td>E06000001</td>\n",
       "      <td>Hartlepool</td>\n",
       "      <td>584</td>\n",
       "      <td>591</td>\n",
       "      <td>580</td>\n",
       "      <td>586</td>\n",
       "      <td>617</td>\n",
       "      <td>600</td>\n",
       "    </tr>\n",
       "    <tr>\n",
       "      <th>3</th>\n",
       "      <td>E06000001</td>\n",
       "      <td>Hartlepool</td>\n",
       "      <td>560</td>\n",
       "      <td>593</td>\n",
       "      <td>600</td>\n",
       "      <td>577</td>\n",
       "      <td>581</td>\n",
       "      <td>621</td>\n",
       "    </tr>\n",
       "    <tr>\n",
       "      <th>4</th>\n",
       "      <td>E06000001</td>\n",
       "      <td>Hartlepool</td>\n",
       "      <td>525</td>\n",
       "      <td>553</td>\n",
       "      <td>600</td>\n",
       "      <td>614</td>\n",
       "      <td>591</td>\n",
       "      <td>565</td>\n",
       "    </tr>\n",
       "  </tbody>\n",
       "</table>\n",
       "</div>"
      ],
      "text/plain": [
       "  lad2014_code lad2014_name  population_2009  population_2010  \\\n",
       "0    E06000001   Hartlepool              572              584   \n",
       "1    E06000001   Hartlepool              597              577   \n",
       "2    E06000001   Hartlepool              584              591   \n",
       "3    E06000001   Hartlepool              560              593   \n",
       "4    E06000001   Hartlepool              525              553   \n",
       "\n",
       "   population_2011  population_2012  population_2013  population_2014  \n",
       "0              601              594              576              551  \n",
       "1              573              615              601              567  \n",
       "2              580              586              617              600  \n",
       "3              600              577              581              621  \n",
       "4              600              614              591              565  "
      ]
     },
     "execution_count": 511,
     "metadata": {},
     "output_type": "execute_result"
    }
   ],
   "source": [
    "pop_data.head()"
   ]
  },
  {
   "cell_type": "code",
   "execution_count": 512,
   "metadata": {},
   "outputs": [],
   "source": [
    "# group and summing the data\n",
    "df = pop_data.groupby([\"lad2014_code\", \"lad2014_name\"])['population_2009', 'population_2010', 'population_2011', 'population_2012', 'population_2013', 'population_2014'].sum()"
   ]
  },
  {
   "cell_type": "code",
   "execution_count": 513,
   "metadata": {},
   "outputs": [],
   "source": [
    "# renaming columns\n",
    "df = df.rename(columns={'population_2009': '2009', 'population_2010': '2010', 'population_2011': '2011', 'population_2012' : '2012', 'population_2013' : '2013', 'population_2014' : '2014'})"
   ]
  },
  {
   "cell_type": "code",
   "execution_count": 514,
   "metadata": {},
   "outputs": [],
   "source": [
    "df = df.reset_index()"
   ]
  },
  {
   "cell_type": "code",
   "execution_count": 515,
   "metadata": {},
   "outputs": [],
   "source": [
    "# turning the columns into rows\n",
    "df = df.melt(['lad2014_code', \"lad2014_name\"], var_name='2009', value_name='Val')"
   ]
  },
  {
   "cell_type": "code",
   "execution_count": 516,
   "metadata": {},
   "outputs": [],
   "source": [
    "# renaming columns\n",
    "df = df.rename(columns={'2009':'year', 'Val': 'population'})"
   ]
  },
  {
   "cell_type": "code",
   "execution_count": 517,
   "metadata": {},
   "outputs": [],
   "source": [
    "# exporting the dataframe\n",
    "df.to_csv(\"map_data/population_data_year_column.csv\")"
   ]
  },
  {
   "cell_type": "markdown",
   "metadata": {},
   "source": [
    "# Combining the accident data with the population data#\n",
    "Since our self generated data was missing a column, we first mereged the original accident dataset with our dataset containing the district names and then created a column for normalized data. "
   ]
  },
  {
   "cell_type": "code",
   "execution_count": 518,
   "metadata": {},
   "outputs": [],
   "source": [
    "accident_df = pd.read_csv(cwd + \"/map_data/total_accidents_on_years_for_map.csv\");\n",
    "population_df = pd.read_csv(cwd + \"/map_data/population_data_year_column.csv\");"
   ]
  },
  {
   "cell_type": "code",
   "execution_count": 519,
   "metadata": {
    "scrolled": true
   },
   "outputs": [],
   "source": [
    "# renaming the columns so that data can be merged\n",
    "accident_df = accident_df.rename(columns={'Year' : 'year'})\n",
    "population_df = population_df.rename(columns={'lad2014_name' : 'name'})"
   ]
  },
  {
   "cell_type": "code",
   "execution_count": 520,
   "metadata": {},
   "outputs": [],
   "source": [
    "# the two datasets are merged on year and name to give us an population column\n",
    "population_accident_df = pd.merge(accident_df, population_df, on=['year', 'name'], how='outer' )"
   ]
  },
  {
   "cell_type": "code",
   "execution_count": 521,
   "metadata": {},
   "outputs": [],
   "source": [
    "# selecting the relevant columns\n",
    "population_accident_df = population_accident_df[['year', 'name','accident_num', 'population']]"
   ]
  },
  {
   "cell_type": "code",
   "execution_count": 468,
   "metadata": {},
   "outputs": [],
   "source": [
    "# creating a column for normalized data\n",
    "population_accident_df['normalized'] = population_accident_df.accident_num/population_accident_df.population"
   ]
  },
  {
   "cell_type": "code",
   "execution_count": 522,
   "metadata": {},
   "outputs": [],
   "source": [
    "population_accident_df.to_csv('map_data/population_and_accident_data_combined.csv')"
   ]
  },
  {
   "cell_type": "code",
   "execution_count": null,
   "metadata": {},
   "outputs": [],
   "source": []
  }
 ],
 "metadata": {
  "kernelspec": {
   "display_name": "Python 3",
   "language": "python",
   "name": "python3"
  },
  "language_info": {
   "codemirror_mode": {
    "name": "ipython",
    "version": 3
   },
   "file_extension": ".py",
   "mimetype": "text/x-python",
   "name": "python",
   "nbconvert_exporter": "python",
   "pygments_lexer": "ipython3",
   "version": "3.7.1"
  }
 },
 "nbformat": 4,
 "nbformat_minor": 2
}
